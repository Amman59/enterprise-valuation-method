{
 "cells": [
  {
   "cell_type": "markdown",
   "metadata": {},
   "source": [
    "Valuation\n",
    "\n",
    "In a recent trading huddle meeting Nokia's newest acquisition (Infinera) came up. Nokia was trading at €3.47 on June 26th, and €3.67 on the 1st of July, following the anouncement on the 26th of June. This represents a 576 basis point incraese in the share price.\n",
    "\n",
    "the report is baed on the following (https://www.nokia.com/sites/default/files/2024-06/nokia-to-acquire-infinera.pdf)\n",
    "I am interested in the valuation used here, as Infinera had an enterprise value of $2.3 billion. Where exactly did this number come from? And why did Nokia pay such an amount to acquire them?\n",
    "Lets Look at what Infinera do. They are an Optical networking specialist who have €1.5bn Revenue, with over 60% of that in the US. Nokia's acquisition has synergistic purpose as the two companies have a combined 20% share of the market, which is only bettered by Huawei. \n",
    "\n",
    "The Valuation of a compnay can be done by various methods. The gold standard of this is apparently the DCF or Discounted Cash Flow model. This values a company based on the cash flow it is expected to have in the future, adjusted for the time value of money - i.e using the present value of the money.\n",
    "\n",
    "\\begin{aligned}\n",
    "DCF = \\frac{CF_1}{(1+r)^1} + \\frac{CF_2}{(1+r)^2}+ \\frac{CF_n}{(1+r)^n}\n",
    "\\end{aligned}\n",
    "\n",
    "\n",
    "Where $r$ is the discount rate     \n",
    "and $CF_n$ is the Cash flow in year $n$\n",
    "\n",
    "So what is the discount rate? It is being used to show change in value of money to reflect the value in todays terms. Apparently, many companies use the weighted average cost of capital as a measure of discount rate. The weighted average cost of capital can be defined as:\n",
    "\n",
    "\\begin{aligned}\n",
    "WACC = (\\frac{E}{E+D} \\times Re ) +(\\frac{D}{E+D} \\times Rd \\times (1-Tc) )\n",
    "\\end{aligned}\n",
    "\n",
    "WACC is typically also used as a hurdle rate for a project or acquisition. This differs slightly from the IRR otherwise known as the Internal rate of Return which can be defiened at the point at which the Net Present Calue of cash flow is equal to 0. NPV is defined as:\n",
    "\n",
    "\\begin{aligned}\n",
    "NPV = \\sum_{t=0}^{n}  \\frac{R_t}{(1+i)^t}\n",
    "\\end{aligned}\n",
    "\n",
    "where $R_t$ can be defined as the net inflow-outflow position over each period $t$."
   ]
  }
 ],
 "metadata": {
  "kernelspec": {
   "display_name": "base",
   "language": "python",
   "name": "python3"
  },
  "language_info": {
   "codemirror_mode": {
    "name": "ipython",
    "version": 3
   },
   "file_extension": ".py",
   "mimetype": "text/x-python",
   "name": "python",
   "nbconvert_exporter": "python",
   "pygments_lexer": "ipython3",
   "version": "3.11.7"
  }
 },
 "nbformat": 4,
 "nbformat_minor": 2
}
